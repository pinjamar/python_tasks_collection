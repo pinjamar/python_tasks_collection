{
 "cells": [
  {
   "cell_type": "markdown",
   "id": "8252c967",
   "metadata": {},
   "source": [
    "# Jupyter Notebook IDE"
   ]
  },
  {
   "cell_type": "markdown",
   "id": "d718734f",
   "metadata": {},
   "source": [
    "## Struktura Jupyter Notebook datoteke\n",
    "\n",
    "Osnovna jedinica za unos koda ili teksta u Jupyter Notebook je ćelija. Ovisno o sadržaju, ćelije mogu imati nekoliko tipova, nama su **najvažnija dva**:\n",
    "1. *Code cell* (ćelija za unos koda)\n",
    "2. *Markdown Cell* (ćelija za unos teksta, fotografija, videa...)"
   ]
  },
  {
   "cell_type": "code",
   "execution_count": 1,
   "id": "c677a3f2",
   "metadata": {},
   "outputs": [
    {
     "name": "stdout",
     "output_type": "stream",
     "text": [
      "Pozdrav iz Jupyter Notebooka\n"
     ]
    }
   ],
   "source": [
    "# Ovo je CODE CELL u Jupyter Notebooku. To je ćelija u kojoj pišemo kod\n",
    "# Tekst iznad ćelije je MARKDOWN CELL, prostor u kojem pišemo tekst\n",
    "\n",
    "print('Pozdrav iz Jupyter Notebooka') # Kombinacija tipki SHIFT + ENTER pokreće kod u ćeliji"
   ]
  },
  {
   "cell_type": "markdown",
   "id": "8de5714c",
   "metadata": {},
   "source": [
    "**NAPOMENA** Za razliku od klasičnih IDE-ova, u Jupyter Notebooku kod se izvršava ćeliju po ćeliju. To znači da ćemo izvršiti kod samo onih ćelija koje smo pokrenuli."
   ]
  },
  {
   "cell_type": "markdown",
   "id": "7bc138d7",
   "metadata": {},
   "source": [
    "## Stanja u kojima se nalaze ćelije"
   ]
  },
  {
   "cell_type": "markdown",
   "id": "c944a25f",
   "metadata": {},
   "source": [
    "U Jupyter Notebooku uvijek je **samo jedna** ćelija aktivna. Svaka ćelija može biti u dva stanja, ovisno o tome što želimo sa sadržajem ćelije. Ako želimo mijenjati sadržaj, onda ćelija mora biti u **EDIT MODE** (zelena boja) stanju, a ako želimo pokretati sadržaj ili mijenjati tip sadržaja (kod ili tekst) onda ćelija treba biti u **COMMAND MODE** (plava boja) stanju."
   ]
  },
  {
   "cell_type": "markdown",
   "id": "078e2b95",
   "metadata": {},
   "source": [
    "## Prečaci na tipkovnici"
   ]
  },
  {
   "cell_type": "markdown",
   "id": "df43aa69",
   "metadata": {},
   "source": [
    "**NAPOMENA - prečac na tipkovnici ovisi o stanju u kojem je ćelija.** Promjenu stanja ćelije na kojoj trenutno radimo, možemo napraviti pomoću tipke **ESC** koja prebacuje ćeliju u **COMMAND MODE**, a ako želimo ćeliju prebaciti u **EDIT MODE**, tada pritisnemo tipku **ENTER**"
   ]
  },
  {
   "cell_type": "markdown",
   "id": "10fd3968",
   "metadata": {},
   "source": [
    "### Pokretanje ili aktiviranje sadržaja ćelije"
   ]
  },
  {
   "cell_type": "markdown",
   "id": "01d349c1",
   "metadata": {},
   "source": [
    "Svaku ćeliju možemo pokrenuti tako da kliknemo na gumb run ili na jednostavniji način: kombinacijom tipki **SHIFT + ENTER**. Ova kombinacija vrijedi za oba stanja ćelije. "
   ]
  },
  {
   "cell_type": "markdown",
   "id": "5cfc67fd",
   "metadata": {},
   "source": [
    "### Promjena tipa sadržaja - **CODE CELL <-> MARKDOWN CELL**"
   ]
  },
  {
   "cell_type": "markdown",
   "id": "5dc0919b",
   "metadata": {},
   "source": [
    "Za prebacivanje ćelije u CODE CELL u kojem možemo pisati programski kod pritisnemo tipku **Y**, a ako pritisnemo **M**, prebacit ćemo ćeliju u MARKDOWN CELL"
   ]
  },
  {
   "cell_type": "markdown",
   "id": "e7191e8f",
   "metadata": {},
   "source": [
    "### Drugi korisni prečaci"
   ]
  },
  {
   "cell_type": "markdown",
   "id": "cf344fcf",
   "metadata": {},
   "source": [
    "**Ćelija mora biti u COMMAND MODE-u**:\n",
    "- A - ubaci novu ćeliju iznad (above)\n",
    "- B - ubaci novu ćeliju ispod (below)\n",
    "- 2 x D - izbriši aktivnu ćeliju\n",
    "- X - izreži aktivnu ćeliju\n",
    "- V - zalijepi ćeliju ispod aktivne ćelije\n",
    "- Z - poništi zadnji korak/aktivnost\n",
    "- S - pohrani izmjene na dokumentu"
   ]
  },
  {
   "cell_type": "markdown",
   "id": "009f9c52",
   "metadata": {},
   "source": [
    "### Format zapisa (ekstenzija datoteke) Jupyter Notebook datoteke\n",
    "- osnovni format Jupyter Notebook datoteke je **.ipynb**"
   ]
  },
  {
   "cell_type": "markdown",
   "id": "ab93fb00",
   "metadata": {},
   "source": [
    "### Tab\n",
    "Jupyter Notebook kao i ostali IDE alati intenzivno koristi tipku TAB za automatsko popunjavanje naziva. Sljede neki primjeri kako koristiti TAB:\n",
    "- nakon što upišemo točku nakon naziva varijable, pomoću TAB-a ćemo dobiti listu dostupnih metoda za tu varijablu ili objekt\n",
    "- nakon otvorene zagrade u funkciji / metodi, TAB prikazuje listu argumenata\n",
    "- kada prikazuje klase i svojstva nekog modula, jednako kao i za varijable / objekte, nakon unosa naziva modula upišemo točku i pomoću TAB tipke dobijemo listu svojstava i klasa u modulu \n",
    "- kada dopunjava putanju do datoteke tako što na kraju mape, pomoću tipke TAB, dobijete popis datoteka, možete početi i pisati naziv datoteke pa pomoću TAB tipke dobijete listu svih datoteka koje počinju tim slovom"
   ]
  },
  {
   "cell_type": "markdown",
   "id": "01ea5bc2",
   "metadata": {},
   "source": [
    "### Znak \"?\"\n",
    "\n",
    "Znak \"?\" možete korisiti nakon naziva varijable, metode, ali i za pretraživanje metoda i klasa unutar nekog modula.\n",
    "\n",
    "Ako koristite dvostruki znak \"?\", dobit ćete i prikaz koda metode."
   ]
  },
  {
   "cell_type": "code",
   "execution_count": 7,
   "id": "6e952bd4",
   "metadata": {},
   "outputs": [],
   "source": [
    "lista = [1, 2, 3]\n",
    "lista?"
   ]
  },
  {
   "cell_type": "code",
   "execution_count": 8,
   "id": "c166bcd3",
   "metadata": {},
   "outputs": [],
   "source": [
    "import datetime\n",
    "datetime.*at*?"
   ]
  },
  {
   "cell_type": "code",
   "execution_count": 9,
   "id": "ba32b561",
   "metadata": {},
   "outputs": [],
   "source": [
    "datetime.date??"
   ]
  },
  {
   "cell_type": "markdown",
   "id": "00a39203",
   "metadata": {},
   "source": [
    "### Magic Commands\n",
    "\n",
    "Jupyter Notebook koristi Magic Commands pomoću kojih imamo mogućnost interakcije s datotekama i operacijskim sustavom na računalu na kojem se pokreće Juypter Notebook skripta. Magic naredbe nisu dio Pythona i specifične su zato jer počinju sa znakom za postotak \"%\" pa slijedi naziv naredbe:\n",
    "- %run naziv_skripe.py - pokreće Python skripte unutar Jupyter notebooka datoteke\n",
    "- %pwd - vraća putanju mape u kojoj se trenutno izvršava kod\n",
    "- %timeit python_naredba - mjeri vrijeme izvršavanja neke python naredbe\n"
   ]
  },
  {
   "cell_type": "code",
   "execution_count": 13,
   "id": "e1f0691a",
   "metadata": {},
   "outputs": [
    {
     "name": "stdout",
     "output_type": "stream",
     "text": [
      "C:\\Users\\fskendrovic\\Desktop\\Uvod_u_podatkovnu_znanost\n"
     ]
    }
   ],
   "source": [
    "trenutna_lokacija = %pwd\n",
    "print(trenutna_lokacija)"
   ]
  },
  {
   "cell_type": "code",
   "execution_count": 15,
   "id": "08c41634",
   "metadata": {},
   "outputs": [],
   "source": [
    "# Detaljna dokumentacija o magic naredbama\n",
    "%magic"
   ]
  },
  {
   "cell_type": "code",
   "execution_count": 16,
   "id": "4a54740f",
   "metadata": {},
   "outputs": [],
   "source": [
    "# Kratke informacije o Magic naredbama\n",
    "%quickref"
   ]
  },
  {
   "cell_type": "markdown",
   "id": "41ffb424",
   "metadata": {},
   "source": [
    "# Python ponavljanje"
   ]
  },
  {
   "cell_type": "markdown",
   "id": "54053fb2",
   "metadata": {},
   "source": [
    "## Python osnove"
   ]
  },
  {
   "cell_type": "markdown",
   "id": "5fe50b2e",
   "metadata": {},
   "source": [
    "### Računanje u Pythonu\n",
    "**PITANJE**\n",
    "**Kojim će se redoslijedom izvršavati matematički izraz prikazan dolje?**"
   ]
  },
  {
   "cell_type": "code",
   "execution_count": 17,
   "id": "ffdd5015",
   "metadata": {},
   "outputs": [
    {
     "data": {
      "text/plain": [
       "10.0"
      ]
     },
     "execution_count": 17,
     "metadata": {},
     "output_type": "execute_result"
    }
   ],
   "source": [
    "5 * (8 - 4) / 2"
   ]
  },
  {
   "cell_type": "markdown",
   "id": "7f840929",
   "metadata": {},
   "source": [
    "**POJAŠNJENJE** Python slijedi pravila kao u matematici pa zagrade imaju prednost"
   ]
  },
  {
   "cell_type": "markdown",
   "id": "35fc18bc",
   "metadata": {},
   "source": [
    "#### Varijable"
   ]
  },
  {
   "cell_type": "code",
   "execution_count": 18,
   "id": "25af00d5",
   "metadata": {},
   "outputs": [
    {
     "name": "stdout",
     "output_type": "stream",
     "text": [
      "5 <class 'int'>\n",
      "Tekstualni tip <class 'str'>\n"
     ]
    }
   ],
   "source": [
    "varijabla = 5\n",
    "print(varijabla, type(varijabla))\n",
    "\n",
    "varijabla = 'Tekstualni tip'\n",
    "print(varijabla, type(varijabla))"
   ]
  },
  {
   "cell_type": "code",
   "execution_count": 19,
   "id": "a32c2b7c",
   "metadata": {},
   "outputs": [
    {
     "ename": "TypeError",
     "evalue": "can only concatenate str (not \"int\") to str",
     "output_type": "error",
     "traceback": [
      "\u001b[1;31m---------------------------------------------------------------------------\u001b[0m",
      "\u001b[1;31mTypeError\u001b[0m                                 Traceback (most recent call last)",
      "Cell \u001b[1;32mIn[19], line 1\u001b[0m\n\u001b[1;32m----> 1\u001b[0m varijabla \u001b[38;5;241m+\u001b[39m\u001b[38;5;241m=\u001b[39m \u001b[38;5;241m5\u001b[39m\n",
      "\u001b[1;31mTypeError\u001b[0m: can only concatenate str (not \"int\") to str"
     ]
    }
   ],
   "source": [
    "varijabla += 5"
   ]
  },
  {
   "cell_type": "markdown",
   "id": "ff03bc3f",
   "metadata": {},
   "source": [
    "**Python kreira reference na varijablu**"
   ]
  },
  {
   "cell_type": "code",
   "execution_count": 20,
   "id": "466d384c",
   "metadata": {},
   "outputs": [],
   "source": [
    "a = [1, 2, 3]\n",
    "b = a"
   ]
  },
  {
   "cell_type": "code",
   "execution_count": 21,
   "id": "8c07fbc4",
   "metadata": {},
   "outputs": [],
   "source": [
    "a.append(4)"
   ]
  },
  {
   "cell_type": "code",
   "execution_count": 22,
   "id": "61dd4f45",
   "metadata": {},
   "outputs": [
    {
     "name": "stdout",
     "output_type": "stream",
     "text": [
      "[1, 2, 3, 4]\n"
     ]
    }
   ],
   "source": [
    "print(b)"
   ]
  },
  {
   "cell_type": "code",
   "execution_count": 23,
   "id": "cb30aa3e",
   "metadata": {},
   "outputs": [
    {
     "name": "stdout",
     "output_type": "stream",
     "text": [
      "Lista a: [1, 2, 3, 4, 5]\n",
      "Lista b: [1, 2, 3, 4]\n"
     ]
    }
   ],
   "source": [
    "# Probajmo iskoristiti slice\n",
    "b = a[::]\n",
    "a.append(5)\n",
    "\n",
    "print(f'Lista a: {a}')\n",
    "print(f'Lista b: {b}')"
   ]
  },
  {
   "cell_type": "markdown",
   "id": "15e26a69",
   "metadata": {},
   "source": [
    "Slice **kreira** novu listu koju smo pohranili u **zasebnu** varijablu \"b\". Sada promjene na jednoj varijabli **neće** biti propagirane na drugu jer više nisu reference na istu memorijsku lokaciju."
   ]
  },
  {
   "cell_type": "markdown",
   "id": "2be22a31",
   "metadata": {},
   "source": [
    "#### Print() funkcija\n",
    "Funkcija koja služi za ispis podataka u konzolu. Funkcija kao argument prima jednu ili više tekstualnih varijablu\n",
    "\n",
    "Najčešće korišteni dodatni argumenti:\n",
    "- end='\\n' - argument koji definira koji znak dolazi na kraju izvršavanje funkcije print()\n",
    "- sep='' - argument koji definira separator između tekstualnih varijabli"
   ]
  },
  {
   "cell_type": "code",
   "execution_count": 25,
   "id": "17e5d759",
   "metadata": {},
   "outputs": [
    {
     "name": "stdout",
     "output_type": "stream",
     "text": [
      "Varijabla a ima vrijednost 5\n"
     ]
    }
   ],
   "source": [
    "a = 5\n",
    "print(f'Varijabla a ima vrijednost {a}')"
   ]
  },
  {
   "cell_type": "code",
   "execution_count": 28,
   "id": "d576e12c",
   "metadata": {},
   "outputs": [
    {
     "name": "stdout",
     "output_type": "stream",
     "text": [
      "tekst proba tekst proba tekst\n"
     ]
    }
   ],
   "source": [
    "print('tekst', 'tekst', 'tekst', sep = ' proba ')"
   ]
  },
  {
   "cell_type": "markdown",
   "id": "4c4407e8",
   "metadata": {},
   "source": [
    "#### Input() funkcija\n",
    "Služi za unos podataka s konzole, odnosno tastature u aplikaciju"
   ]
  },
  {
   "cell_type": "code",
   "execution_count": 29,
   "id": "5b33dfa7",
   "metadata": {},
   "outputs": [
    {
     "name": "stdout",
     "output_type": "stream",
     "text": [
      "Upisite vrijednost varijable 1:\t5\n",
      "Upisite vrijednost varijable 2:\t10\n",
      "Upisite vrijednost varijable 3:\t4\n",
      "5\n"
     ]
    },
    {
     "ename": "TypeError",
     "evalue": "unsupported operand type(s) for -: 'str' and 'str'",
     "output_type": "error",
     "traceback": [
      "\u001b[1;31m---------------------------------------------------------------------------\u001b[0m",
      "\u001b[1;31mTypeError\u001b[0m                                 Traceback (most recent call last)",
      "Cell \u001b[1;32mIn[29], line 6\u001b[0m\n\u001b[0;32m      3\u001b[0m varijabla_3 \u001b[38;5;241m=\u001b[39m \u001b[38;5;28minput\u001b[39m(\u001b[38;5;124m'\u001b[39m\u001b[38;5;124mUpisite vrijednost varijable 3:\u001b[39m\u001b[38;5;130;01m\\t\u001b[39;00m\u001b[38;5;124m'\u001b[39m)\n\u001b[0;32m      5\u001b[0m \u001b[38;5;28mprint\u001b[39m(varijabla_1)\n\u001b[1;32m----> 6\u001b[0m \u001b[38;5;28mprint\u001b[39m(\u001b[43mvarijabla_2\u001b[49m\u001b[43m \u001b[49m\u001b[38;5;241;43m-\u001b[39;49m\u001b[43m \u001b[49m\u001b[43mvarijabla_3\u001b[49m)\n",
      "\u001b[1;31mTypeError\u001b[0m: unsupported operand type(s) for -: 'str' and 'str'"
     ]
    }
   ],
   "source": [
    "varijabla_1 = input('Upisite vrijednost varijable 1:\\t')\n",
    "varijabla_2 = input('Upisite vrijednost varijable 2:\\t')\n",
    "varijabla_3 = input('Upisite vrijednost varijable 3:\\t')\n",
    "\n",
    "print(varijabla_1)\n",
    "print(varijabla_2 - varijabla_3)"
   ]
  },
  {
   "cell_type": "markdown",
   "id": "3b15f540",
   "metadata": {},
   "source": [
    "Upravo zbog činjenice da input() funkcija **UVIJEK** vraća string, kreirane su funkcije za konverziju podataka između različitih tipova.\n",
    "\n",
    "Neke od funkcija za konverziju:\n",
    "- int() - pretvara u dekadski broj\n",
    "- float() - pretvara u decimalni broj\n",
    "- ord() - pretvara u ASCII kod\n",
    "- hex() - pretvara u heksadekadski broj\n",
    "- set() - pretvara dobiveni podatak u set (lista koja ima **JEDINSTVENE ČLANOVE**, nema duplikata)\n",
    "- list() - pretvara dobiveni podatak u listu\n",
    "- dict() - pretvara podatak u rječnik"
   ]
  },
  {
   "cell_type": "code",
   "execution_count": 33,
   "id": "a74f0b0d",
   "metadata": {},
   "outputs": [
    {
     "name": "stdout",
     "output_type": "stream",
     "text": [
      "{1, 2, 3}\n"
     ]
    }
   ],
   "source": [
    "a = [1, 1, 2, 2, 3, 3]\n",
    "\n",
    "print(set(a))"
   ]
  },
  {
   "cell_type": "markdown",
   "id": "878a18bf",
   "metadata": {},
   "source": [
    "**VJEŽBA 1**\n",
    "Napravite zaseban primjer za svaku od navedenih funkcija za konverziju. Za svaku konverziju kreirajte novi podatak.\n",
    "\n",
    "Osmislite aplikaciju u kojoj ćete iskoristiti sve gore navedene funkcije za konverziju."
   ]
  },
  {
   "cell_type": "markdown",
   "id": "85d395d4",
   "metadata": {},
   "source": [
    "#### Kolekcije podataka - List, Dict, Tuple, Set"
   ]
  },
  {
   "cell_type": "markdown",
   "id": "daca89fe",
   "metadata": {},
   "source": [
    "- List\n",
    "- Dictionary - kolekcija podataka koju čine ključ i vrijednost pohranjena pod tim ključem\n",
    "- Tuple - kolekcija podataka slična List kolekciji, ALI nije moguće dodavati ili brisati članove\n",
    "- Set - kolekcija podataka slična List kolekciji u kojoj su svi podaci jedinstveni"
   ]
  },
  {
   "cell_type": "markdown",
   "id": "f014afdc",
   "metadata": {},
   "source": [
    "##### List\n",
    "\n",
    "List je varijabilna, promjenjiva kolekcija podataka"
   ]
  },
  {
   "cell_type": "code",
   "execution_count": 38,
   "id": "84d5cce6",
   "metadata": {
    "scrolled": true
   },
   "outputs": [
    {
     "data": {
      "text/plain": [
       "[20.2, 21.5, 23.4, 25.6, 21.3]"
      ]
     },
     "execution_count": 38,
     "metadata": {},
     "output_type": "execute_result"
    }
   ],
   "source": [
    "dnevne_temperature = [20.2, 21.5, 23.4, 25.6, 21.3]\n",
    "dnevne_temperature"
   ]
  },
  {
   "cell_type": "markdown",
   "id": "6bf082c2",
   "metadata": {},
   "source": [
    "Dekompozicija liste (kolekcije podataka) ili pridruživanje vrijednosti elemenata liste varijablama"
   ]
  },
  {
   "cell_type": "code",
   "execution_count": 41,
   "id": "daafd5d7",
   "metadata": {},
   "outputs": [
    {
     "name": "stdout",
     "output_type": "stream",
     "text": [
      "Ime:\t\tFilip\n",
      "Prezime:\tSkendrović\n",
      "Grad:\t\tSamobor\n"
     ]
    }
   ],
   "source": [
    "lista = ['Filip', 'Skendrović', 'Samobor']\n",
    "ime, prezime, grad = lista\n",
    "\n",
    "print(f'Ime:\\t\\t{ime}')\n",
    "print(f'Prezime:\\t{prezime}')\n",
    "print(f'Grad:\\t\\t{grad}')"
   ]
  },
  {
   "cell_type": "code",
   "execution_count": 42,
   "id": "4c58b8ca",
   "metadata": {},
   "outputs": [
    {
     "data": {
      "text/plain": [
       "range(0, 10)"
      ]
     },
     "execution_count": 42,
     "metadata": {},
     "output_type": "execute_result"
    }
   ],
   "source": [
    "brojevi = range(10)\n",
    "brojevi"
   ]
  },
  {
   "cell_type": "code",
   "execution_count": 43,
   "id": "639aa971",
   "metadata": {},
   "outputs": [
    {
     "data": {
      "text/plain": [
       "[0, 1, 2, 3, 4, 5, 6, 7, 8, 9]"
      ]
     },
     "execution_count": 43,
     "metadata": {},
     "output_type": "execute_result"
    }
   ],
   "source": [
    "brojevi = list(brojevi)\n",
    "brojevi"
   ]
  },
  {
   "cell_type": "markdown",
   "id": "b9e88553",
   "metadata": {},
   "source": [
    "##### Dodavanje i brisanje elemenata liste\n",
    "- append() - dodaje element na kraj liste\n",
    "- insert(index, element) - umeće element na poziciju navedenog indeksa\n",
    "- extend(lista) - kao append() samo dodaje više elemenata odjednom"
   ]
  },
  {
   "cell_type": "code",
   "execution_count": 44,
   "id": "45410f63",
   "metadata": {},
   "outputs": [
    {
     "data": {
      "text/plain": [
       "[0, 1, 2, 3, 4, 5, 6, 7, 8, 9, 12]"
      ]
     },
     "execution_count": 44,
     "metadata": {},
     "output_type": "execute_result"
    }
   ],
   "source": [
    "brojevi.append(12)\n",
    "brojevi"
   ]
  },
  {
   "cell_type": "code",
   "execution_count": 45,
   "id": "7f3810be",
   "metadata": {},
   "outputs": [
    {
     "data": {
      "text/plain": [
       "[0, 1, 2, 3, 'Novi element', 4, 5, 6, 7, 8, 9, 12]"
      ]
     },
     "execution_count": 45,
     "metadata": {},
     "output_type": "execute_result"
    }
   ],
   "source": [
    "brojevi.insert(4, 'Novi element')\n",
    "brojevi"
   ]
  },
  {
   "cell_type": "code",
   "execution_count": 46,
   "id": "3214fbcf",
   "metadata": {},
   "outputs": [
    {
     "data": {
      "text/plain": [
       "[0, 1, 2, 3, 'Novi element', 4, 5, 6, 7, 8, 9, 12, 50, 51, 52, 53, 54]"
      ]
     },
     "execution_count": 46,
     "metadata": {},
     "output_type": "execute_result"
    }
   ],
   "source": [
    "b2 = list(range(50, 55))\n",
    "brojevi.extend(b2)\n",
    "brojevi"
   ]
  },
  {
   "cell_type": "code",
   "execution_count": 47,
   "id": "20d989a4",
   "metadata": {},
   "outputs": [
    {
     "data": {
      "text/plain": [
       "[0, 1, 2, 3, 4, 5, 6, 7, 8, 9, 12, 50, 51, 52, 53, 54]"
      ]
     },
     "execution_count": 47,
     "metadata": {},
     "output_type": "execute_result"
    }
   ],
   "source": [
    "brojevi.pop(4)\n",
    "brojevi"
   ]
  },
  {
   "cell_type": "code",
   "execution_count": 48,
   "id": "6d644b6d",
   "metadata": {},
   "outputs": [
    {
     "data": {
      "text/plain": [
       "[0, 1, 2, 3, 4, 5, 6, 7, 8, 9, 50, 51, 52, 53, 54]"
      ]
     },
     "execution_count": 48,
     "metadata": {},
     "output_type": "execute_result"
    }
   ],
   "source": [
    "brojevi.remove(12)\n",
    "brojevi"
   ]
  },
  {
   "cell_type": "code",
   "execution_count": 49,
   "id": "69039ee8",
   "metadata": {},
   "outputs": [
    {
     "data": {
      "text/plain": [
       "True"
      ]
     },
     "execution_count": 49,
     "metadata": {},
     "output_type": "execute_result"
    }
   ],
   "source": [
    "5 in brojevi"
   ]
  },
  {
   "cell_type": "code",
   "execution_count": 50,
   "id": "d545721d",
   "metadata": {},
   "outputs": [
    {
     "data": {
      "text/plain": [
       "False"
      ]
     },
     "execution_count": 50,
     "metadata": {},
     "output_type": "execute_result"
    }
   ],
   "source": [
    "999 in brojevi"
   ]
  },
  {
   "cell_type": "markdown",
   "id": "41e69b3d",
   "metadata": {},
   "source": [
    "Slice liste"
   ]
  },
  {
   "cell_type": "code",
   "execution_count": 51,
   "id": "603cec55",
   "metadata": {},
   "outputs": [
    {
     "data": {
      "text/plain": [
       "[54, 53, 52, 51, 50]"
      ]
     },
     "execution_count": 51,
     "metadata": {},
     "output_type": "execute_result"
    }
   ],
   "source": [
    "brojevi_b2 = brojevi[:-6:-1]\n",
    "brojevi_b2"
   ]
  },
  {
   "cell_type": "markdown",
   "id": "cd9c24bb",
   "metadata": {},
   "source": [
    "Sortiranje"
   ]
  },
  {
   "cell_type": "code",
   "execution_count": 52,
   "id": "92e21e02",
   "metadata": {},
   "outputs": [
    {
     "data": {
      "text/plain": [
       "[20.2, 21.3, 21.5, 23.4, 25.6]"
      ]
     },
     "execution_count": 52,
     "metadata": {},
     "output_type": "execute_result"
    }
   ],
   "source": [
    "sorted(dnevne_temperature)"
   ]
  },
  {
   "cell_type": "code",
   "execution_count": 53,
   "id": "1e9f81e2",
   "metadata": {},
   "outputs": [
    {
     "data": {
      "text/plain": [
       "[20.2, 21.5, 23.4, 25.6, 21.3]"
      ]
     },
     "execution_count": 53,
     "metadata": {},
     "output_type": "execute_result"
    }
   ],
   "source": [
    "dnevne_temperature"
   ]
  },
  {
   "cell_type": "code",
   "execution_count": 54,
   "id": "c507629b",
   "metadata": {},
   "outputs": [
    {
     "data": {
      "text/plain": [
       "[20.2, 21.3, 21.5, 23.4, 25.6]"
      ]
     },
     "execution_count": 54,
     "metadata": {},
     "output_type": "execute_result"
    }
   ],
   "source": [
    "dnevne_temperature.sort()\n",
    "dnevne_temperature"
   ]
  },
  {
   "cell_type": "markdown",
   "id": "48fee602",
   "metadata": {},
   "source": [
    "Reversed - suprotno od sorted()\n",
    "\n",
    "**NAPOMENA: reversed() generira novu listu tako da ju je potrebno pohraniti u varijablu ili samo objekt pretvoriti metodom u listu**"
   ]
  },
  {
   "cell_type": "code",
   "execution_count": 55,
   "id": "febc1177",
   "metadata": {},
   "outputs": [
    {
     "data": {
      "text/plain": [
       "<list_reverseiterator at 0x186a5b32c10>"
      ]
     },
     "execution_count": 55,
     "metadata": {},
     "output_type": "execute_result"
    }
   ],
   "source": [
    "reversed(dnevne_temperature)"
   ]
  },
  {
   "cell_type": "code",
   "execution_count": 56,
   "id": "b6dce33b",
   "metadata": {},
   "outputs": [
    {
     "data": {
      "text/plain": [
       "[25.6, 23.4, 21.5, 21.3, 20.2]"
      ]
     },
     "execution_count": 56,
     "metadata": {},
     "output_type": "execute_result"
    }
   ],
   "source": [
    "list(reversed(dnevne_temperature))"
   ]
  },
  {
   "cell_type": "code",
   "execution_count": 57,
   "id": "00fc376f",
   "metadata": {},
   "outputs": [
    {
     "data": {
      "text/plain": [
       "[25.6, 23.4, 21.5, 21.3, 20.2]"
      ]
     },
     "execution_count": 57,
     "metadata": {},
     "output_type": "execute_result"
    }
   ],
   "source": [
    "dnevne_temperature = list(reversed(dnevne_temperature))\n",
    "dnevne_temperature"
   ]
  },
  {
   "cell_type": "code",
   "execution_count": 58,
   "id": "28f051a7",
   "metadata": {},
   "outputs": [
    {
     "data": {
      "text/plain": [
       "[20.2, 21.3, 21.5, 23.4, 25.6]"
      ]
     },
     "execution_count": 58,
     "metadata": {},
     "output_type": "execute_result"
    }
   ],
   "source": [
    "dnevne_temperature.sort()\n",
    "dnevne_temperature"
   ]
  },
  {
   "cell_type": "markdown",
   "id": "fe184814",
   "metadata": {},
   "source": [
    "#### Dict ili Dictionary ili Rječnik"
   ]
  },
  {
   "cell_type": "markdown",
   "id": "d50038a2",
   "metadata": {},
   "source": [
    "Kolekcija podataka spceifična po tome što umjesto indeksa koristi par ključ / vrijednost."
   ]
  },
  {
   "cell_type": "code",
   "execution_count": 59,
   "id": "c027e157",
   "metadata": {},
   "outputs": [
    {
     "data": {
      "text/plain": [
       "{1: ['Senzor pokreta', 'Aktivan', 'Ulazna vrata'],\n",
       " 2: ['Senzor pokreta', 'Neaktivan', 'Vrata na terasi'],\n",
       " 3: ['Senzor plinova', 'Aktivan', 'Ulaz u garazu']}"
      ]
     },
     "execution_count": 59,
     "metadata": {},
     "output_type": "execute_result"
    }
   ],
   "source": [
    "senzori = {1: ['Senzor pokreta', 'Aktivan', 'Ulazna vrata'],\n",
    "          2: ['Senzor pokreta', 'Neaktivan', 'Vrata na terasi'],\n",
    "          3: ['Senzor plinova', 'Aktivan', 'Ulaz u garazu']}\n",
    "senzori"
   ]
  },
  {
   "cell_type": "markdown",
   "id": "008a4752",
   "metadata": {},
   "source": [
    "Većina metoda koja vrijedi za liste, vrijedi i za rječnik.\n",
    "\n",
    "Neke su ipak specifične:\n",
    "- keys() - tuple s kolekcijom svih ključeva\n",
    "- values() - tuple s kolecijom svih vrijednosti\n",
    "- items() - tuple s kolekcijom svih ključeva i vrijednosti"
   ]
  },
  {
   "cell_type": "code",
   "execution_count": 60,
   "id": "a007414f",
   "metadata": {},
   "outputs": [
    {
     "data": {
      "text/plain": [
       "dict_keys([1, 2, 3])"
      ]
     },
     "execution_count": 60,
     "metadata": {},
     "output_type": "execute_result"
    }
   ],
   "source": [
    "senzori.keys()"
   ]
  },
  {
   "cell_type": "code",
   "execution_count": 61,
   "id": "89bde3e7",
   "metadata": {},
   "outputs": [
    {
     "data": {
      "text/plain": [
       "dict_values([['Senzor pokreta', 'Aktivan', 'Ulazna vrata'], ['Senzor pokreta', 'Neaktivan', 'Vrata na terasi'], ['Senzor plinova', 'Aktivan', 'Ulaz u garazu']])"
      ]
     },
     "execution_count": 61,
     "metadata": {},
     "output_type": "execute_result"
    }
   ],
   "source": [
    "senzori.values()"
   ]
  },
  {
   "cell_type": "code",
   "execution_count": 62,
   "id": "7aa44867",
   "metadata": {},
   "outputs": [
    {
     "data": {
      "text/plain": [
       "dict_items([(1, ['Senzor pokreta', 'Aktivan', 'Ulazna vrata']), (2, ['Senzor pokreta', 'Neaktivan', 'Vrata na terasi']), (3, ['Senzor plinova', 'Aktivan', 'Ulaz u garazu'])])"
      ]
     },
     "execution_count": 62,
     "metadata": {},
     "output_type": "execute_result"
    }
   ],
   "source": [
    "senzori.items()"
   ]
  },
  {
   "cell_type": "code",
   "execution_count": 65,
   "id": "f6583c67",
   "metadata": {},
   "outputs": [
    {
     "name": "stdout",
     "output_type": "stream",
     "text": [
      "Stanje senzora pod ključem 2 je: Neaktivan\n"
     ]
    }
   ],
   "source": [
    "print(f'Stanje senzora pod ključem 2 je: {senzori[2][1]}')"
   ]
  },
  {
   "cell_type": "markdown",
   "id": "e2820629",
   "metadata": {},
   "source": [
    "#### Tuple\n",
    "Tuple ili n-terac kolekcija je podataka fiksne dužine, dakle **fiksnog broja elemenata**. To znači kako tuple nije moguće mijenjati.\n",
    "\n",
    "Sve što smo koristili u vezi lista, možemo koristiti uz tuple, osim metoda koje dodaju, uklanjaju ili mijenjaju elemente.\n",
    "\n",
    "Tuple je jako koristan kod učitavanja podataka iz baze podataka zato jer želimo imati kolekciju podataka kakvi se nalaze u bazi i želimo se osigurati da se to neće promijeniti."
   ]
  },
  {
   "cell_type": "code",
   "execution_count": 67,
   "id": "c423cc42",
   "metadata": {},
   "outputs": [
    {
     "data": {
      "text/plain": [
       "(20.2, 21.5, 23.4)"
      ]
     },
     "execution_count": 67,
     "metadata": {},
     "output_type": "execute_result"
    }
   ],
   "source": [
    "dnevne_temperature = (20.2, 21.5, 23.4, 25.6, 21.3)\n",
    "dnevne_temperature_zakljucano_prvih_tri = dnevne_temperature[:3]\n",
    "dnevne_temperature_zakljucano_prvih_tri"
   ]
  },
  {
   "cell_type": "markdown",
   "id": "bf3a4aa3",
   "metadata": {},
   "source": [
    "**PITANJE**\n",
    "**Možemo li izvršiti kod u donjoj ćeliji?**"
   ]
  },
  {
   "cell_type": "code",
   "execution_count": 68,
   "id": "8a56df1f",
   "metadata": {},
   "outputs": [],
   "source": [
    "nterac = ([1, 2, 3], 4)\n",
    "nterac[0].append(4)"
   ]
  },
  {
   "cell_type": "code",
   "execution_count": 69,
   "id": "37874fea",
   "metadata": {},
   "outputs": [
    {
     "data": {
      "text/plain": [
       "([1, 2, 3, 4], 4)"
      ]
     },
     "execution_count": 69,
     "metadata": {},
     "output_type": "execute_result"
    }
   ],
   "source": [
    "nterac"
   ]
  },
  {
   "cell_type": "markdown",
   "id": "5cb477f3",
   "metadata": {},
   "source": [
    "**ODGOVOR**\n",
    "**Nismo mijenjali tuple, nego listu koja je element tuplea. Dakle, tuple kao kolekcija elemenata NIJE promjenjiva, ali ako je neki element tuplea promjenjiv, kao na primjer lista, onda tu listu možemo mijenjati.**"
   ]
  },
  {
   "cell_type": "markdown",
   "id": "7d8c7ddd",
   "metadata": {},
   "source": [
    "#### Set\n",
    "Set je nesortirana kolekcija jedinstvenih podataka"
   ]
  },
  {
   "cell_type": "code",
   "execution_count": 70,
   "id": "ef3ff3e8",
   "metadata": {},
   "outputs": [
    {
     "data": {
      "text/plain": [
       "[2, 2, 3, 1, 5, 4, 5, 6]"
      ]
     },
     "execution_count": 70,
     "metadata": {},
     "output_type": "execute_result"
    }
   ],
   "source": [
    "lista = [2, 2, 3, 1, 5, 4, 5, 6]\n",
    "lista"
   ]
  },
  {
   "cell_type": "code",
   "execution_count": 71,
   "id": "a365828a",
   "metadata": {},
   "outputs": [
    {
     "data": {
      "text/plain": [
       "{1, 2, 3, 4, 5, 6}"
      ]
     },
     "execution_count": 71,
     "metadata": {},
     "output_type": "execute_result"
    }
   ],
   "source": [
    "set(lista)"
   ]
  },
  {
   "cell_type": "markdown",
   "id": "8119c9b1",
   "metadata": {},
   "source": [
    "#### String\n",
    "String je ustvari kolekcija znakova koju NE možemo mijenjati i koju jednostavno možemo pretvoriti u neku listu!"
   ]
  },
  {
   "cell_type": "code",
   "execution_count": 72,
   "id": "031067b3",
   "metadata": {},
   "outputs": [
    {
     "data": {
      "text/plain": [
       "['L',\n",
       " 'i',\n",
       " 's',\n",
       " 't',\n",
       " 'a',\n",
       " ' ',\n",
       " 'd',\n",
       " 'n',\n",
       " 'e',\n",
       " 'v',\n",
       " 'n',\n",
       " 'i',\n",
       " 'h',\n",
       " ' ',\n",
       " 't',\n",
       " 'e',\n",
       " 'm',\n",
       " 'p',\n",
       " 'e',\n",
       " 'r',\n",
       " 'a',\n",
       " 't',\n",
       " 'u',\n",
       " 'r',\n",
       " 'a']"
      ]
     },
     "execution_count": 72,
     "metadata": {},
     "output_type": "execute_result"
    }
   ],
   "source": [
    "naslov = 'Lista dnevnih temperatura'\n",
    "list(naslov)"
   ]
  },
  {
   "cell_type": "code",
   "execution_count": 73,
   "id": "d75abe9e",
   "metadata": {},
   "outputs": [
    {
     "data": {
      "text/plain": [
       "{' ', 'L', 'a', 'd', 'e', 'h', 'i', 'm', 'n', 'p', 'r', 's', 't', 'u', 'v'}"
      ]
     },
     "execution_count": 73,
     "metadata": {},
     "output_type": "execute_result"
    }
   ],
   "source": [
    "set(naslov)"
   ]
  },
  {
   "cell_type": "markdown",
   "id": "9298bf06",
   "metadata": {},
   "source": [
    "Ako je string kolekcija znakova, onda bismo trebali moći koristiti slice naredbu"
   ]
  },
  {
   "cell_type": "code",
   "execution_count": 74,
   "id": "699b367f",
   "metadata": {},
   "outputs": [
    {
     "data": {
      "text/plain": [
       "'Lista dne'"
      ]
     },
     "execution_count": 74,
     "metadata": {},
     "output_type": "execute_result"
    }
   ],
   "source": [
    "naslov[:9]"
   ]
  },
  {
   "cell_type": "markdown",
   "id": "16f33bd8",
   "metadata": {},
   "source": [
    "Kako se tekstualni podaci najčešće pohranjuju kao string, onda je jako korisno poznavati mogućnosti toga kako se može formatirati prikaz tog teksta.\n",
    "\n",
    "Posebni znakovi, koje nazivamo escape characters:\n",
    "- \\n - novi red\n",
    "- \\t - tab \n",
    "- \\\\\" - dvostruki navodnici\n",
    "- \\\\' - jednostruki navodnici\n",
    "- \\ - kosa crta (backslash)"
   ]
  },
  {
   "cell_type": "code",
   "execution_count": 76,
   "id": "663bab22",
   "metadata": {
    "scrolled": true
   },
   "outputs": [
    {
     "name": "stdout",
     "output_type": "stream",
     "text": [
      "Filip's cake\n"
     ]
    }
   ],
   "source": [
    "print('Filip\\'s cake')"
   ]
  },
  {
   "cell_type": "code",
   "execution_count": 77,
   "id": "ba2e714f",
   "metadata": {},
   "outputs": [
    {
     "name": "stdout",
     "output_type": "stream",
     "text": [
      "Lista\n",
      "Dnevnih\n",
      "Temperatura\n"
     ]
    }
   ],
   "source": [
    "naslov = 'Lista\\nDnevnih\\nTemperatura'\n",
    "print(naslov)"
   ]
  },
  {
   "cell_type": "markdown",
   "id": "b050a625",
   "metadata": {},
   "source": [
    "Ako ispred navodnika unutar kojih upisujemo znakove koji čine string, napišemo slovo **r**, poništit ćemo svo formatiranje koje smo postigli uporabom escape znakova (r - od eng. raw (sirovo))"
   ]
  },
  {
   "cell_type": "code",
   "execution_count": 78,
   "id": "245aae0d",
   "metadata": {},
   "outputs": [
    {
     "name": "stdout",
     "output_type": "stream",
     "text": [
      "Lista\\nDnevnih\\nTemperatura\n"
     ]
    }
   ],
   "source": [
    "naslov = r'Lista\\nDnevnih\\nTemperatura'\n",
    "print(naslov)"
   ]
  },
  {
   "cell_type": "markdown",
   "id": "aba6aeee",
   "metadata": {},
   "source": [
    ".format() metoda je dostupna nad str objektom i koristimo je kada želimo izravno, unutar rečenice, umetnuti vrijednosti varijabli. \n",
    "\n",
    "Osim toga, postoje još modifikatori koji služe za promjenu prikaza vrijednosti varijable:\n",
    "- {0:.2f} - koristi se za formatiranje decimalnih brojeva, a broj decimalnih mjesta je definiran nakon točke (broj 2). Nula koja je prvi znak unutar vitičastih zagrada, označava indeks elementa unutar liste varijabli koje se prosljueđuju kao argument metode .format()\n",
    "- {1:s} - formatiraj vrijednost varijable kao tekst\n",
    "- {2:d} - formatiraj vrijednost varijable kao broj"
   ]
  },
  {
   "cell_type": "code",
   "execution_count": 79,
   "id": "d1478d09",
   "metadata": {},
   "outputs": [
    {
     "data": {
      "text/plain": [
       "'7.50 kn (Hrvatska kuna) vrijedi 1 EUR'"
      ]
     },
     "execution_count": 79,
     "metadata": {},
     "output_type": "execute_result"
    }
   ],
   "source": [
    "predlozak_teksta = '{0:.2f} {1:s} vrijedi {2:d} EUR'\n",
    "predlozak_teksta.format(7.5, 'kn (Hrvatska kuna)', 1)"
   ]
  },
  {
   "cell_type": "markdown",
   "id": "b672c22f",
   "metadata": {},
   "source": [
    "#### Boolean kao istina ili laž\n",
    "Tip varijable boolean označava je li izraz True ili False. Koristi se kod uvjetnog grananja koda, ali i kod raznih provjera ima li neka varijable traženu vrijednost ili ne !"
   ]
  },
  {
   "cell_type": "markdown",
   "id": "ace64f5e",
   "metadata": {},
   "source": [
    "#### None kao podatak bez vrijednosti\n",
    "None je Python oznaka toga da varijabla **NEMA vrijednost**\n"
   ]
  },
  {
   "cell_type": "markdown",
   "id": "8d0983f3",
   "metadata": {},
   "source": [
    "### Kontrola toka izvršavanja programa"
   ]
  },
  {
   "cell_type": "markdown",
   "id": "d6248818",
   "metadata": {},
   "source": [
    "if, for, while"
   ]
  },
  {
   "cell_type": "markdown",
   "id": "96fa2f57",
   "metadata": {},
   "source": [
    "**if...else**"
   ]
  },
  {
   "cell_type": "code",
   "execution_count": 81,
   "id": "cef1541c",
   "metadata": {},
   "outputs": [
    {
     "name": "stdout",
     "output_type": "stream",
     "text": [
      "Nema potrebe za uključivanjem klime !\n"
     ]
    }
   ],
   "source": [
    "temperatura = 22\n",
    "\n",
    "if temperatura >= 25:\n",
    "    print('Klima je uključena !')\n",
    "else:\n",
    "    print('Nema potrebe za uključivanjem klime !')"
   ]
  },
  {
   "cell_type": "markdown",
   "id": "f7d1fc09",
   "metadata": {},
   "source": [
    "**if...elif...else**"
   ]
  },
  {
   "cell_type": "code",
   "execution_count": 87,
   "id": "f087f9cb",
   "metadata": {},
   "outputs": [
    {
     "name": "stdout",
     "output_type": "stream",
     "text": [
      "Trenutna temperatura je 25\n"
     ]
    }
   ],
   "source": [
    "temperatura = 25\n",
    "\n",
    "if temperatura <= 18:\n",
    "    print('Grijanje je uključeno')\n",
    "    print(f'Trenutna temperatura je {temperatura}')\n",
    "elif temperatura == 22:\n",
    "    print('Grijanje je isključeno')\n",
    "    print(f'Trenutna temperatura je {temperatura}')\n",
    "elif temperatura >= 27:\n",
    "    print('Klima je uključena')\n",
    "    print(f'Trenutna temperatura je {temperatura}')\n",
    "elif temperatura == 24:\n",
    "    print('Hlađenje je isključeno')\n",
    "    print(f'Trenutna temperatura je {temperatura}')\n",
    "else:\n",
    "    print(f'Trenutna temperatura je {temperatura}')"
   ]
  },
  {
   "cell_type": "markdown",
   "id": "26cee6c8",
   "metadata": {},
   "source": [
    "**while**"
   ]
  },
  {
   "cell_type": "code",
   "execution_count": 89,
   "id": "d2e3f250",
   "metadata": {},
   "outputs": [
    {
     "name": "stdout",
     "output_type": "stream",
     "text": [
      "Vlaznost tla je 25%, što je manje od 65%- Ventil je OTVOREN\n",
      "Vlaznost tla je 30%, što je manje od 65%- Ventil je OTVOREN\n",
      "Vlaznost tla je 35%, što je manje od 65%- Ventil je OTVOREN\n",
      "Vlaznost tla je 40%, što je manje od 65%- Ventil je OTVOREN\n",
      "Vlaznost tla je 45%, što je manje od 65%- Ventil je OTVOREN\n",
      "Vlaznost tla je 50%, što je manje od 65%- Ventil je OTVOREN\n",
      "Vlaznost tla je 55%, što je manje od 65%- Ventil je OTVOREN\n",
      "Vlaznost tla je 60%, što je manje od 65%- Ventil je OTVOREN\n",
      "Vlaznost tla je 65%, što je više ili jednako od 65%- Ventil je ZATVOREN\n"
     ]
    }
   ],
   "source": [
    "vlaznost_tla = 25\n",
    "\n",
    "while vlaznost_tla < 65:\n",
    "    print(f'Vlaznost tla je {vlaznost_tla}%, što je manje od 65%- Ventil je OTVOREN')\n",
    "    vlaznost_tla += 5\n",
    "\n",
    "print(f'Vlaznost tla je {vlaznost_tla}%, što je više ili jednako od 65%- Ventil je ZATVOREN')"
   ]
  },
  {
   "cell_type": "markdown",
   "id": "d9e7254f",
   "metadata": {},
   "source": [
    "**for**"
   ]
  },
  {
   "cell_type": "code",
   "execution_count": 91,
   "id": "51d75121",
   "metadata": {},
   "outputs": [
    {
     "name": "stdout",
     "output_type": "stream",
     "text": [
      "ID: 1\tTip: Senzor pokreta\tStatus: Aktivan\t\tLokacija: Ulazna vrata\n",
      "ID: 2\tTip: Senzor pokreta\tStatus: Neaktivan\t\tLokacija: Vrata na terasi\n",
      "ID: 3\tTip: Senzor plinova\tStatus: Aktivan\t\tLokacija: Ulaz u garazu\n"
     ]
    }
   ],
   "source": [
    "senzori = {1: ['Senzor pokreta', 'Aktivan', 'Ulazna vrata'],\n",
    "          2: ['Senzor pokreta', 'Neaktivan', 'Vrata na terasi'],\n",
    "          3: ['Senzor plinova', 'Aktivan', 'Ulaz u garazu']}\n",
    "\n",
    "for id_senzora, senzor in senzori.items():\n",
    "    print(f'ID: {id_senzora}\\tTip: {senzor[0]}\\tStatus: {senzor[1]}\\t\\tLokacija: {senzor[2]}')"
   ]
  },
  {
   "cell_type": "markdown",
   "id": "06eb17e6",
   "metadata": {},
   "source": [
    "### Python način kraćeg pisanja koda"
   ]
  },
  {
   "cell_type": "code",
   "execution_count": 94,
   "id": "fe536837",
   "metadata": {
    "scrolled": true
   },
   "outputs": [
    {
     "data": {
      "text/plain": [
       "['SENZOR POKRETA', 'AKTIVAN', 'ULAZNA VRATA']"
      ]
     },
     "execution_count": 94,
     "metadata": {},
     "output_type": "execute_result"
    }
   ],
   "source": [
    "rijeci = ['Senzor pokreta', 'Aktivan', 'Ulazna vrata', 'k', 'rk']\n",
    "rezultat = []\n",
    "\n",
    "for rijec in rijeci:\n",
    "    if len(rijec) > 2:\n",
    "        rezultat.append(rijec.upper())\n",
    "\n",
    "rezultat"
   ]
  },
  {
   "cell_type": "markdown",
   "id": "f3cb684e",
   "metadata": {},
   "source": [
    "**kraći način**"
   ]
  },
  {
   "cell_type": "code",
   "execution_count": 96,
   "id": "5072e36d",
   "metadata": {},
   "outputs": [
    {
     "data": {
      "text/plain": [
       "['SENZOR POKRETA', 'AKTIVAN', 'ULAZNA VRATA']"
      ]
     },
     "execution_count": 96,
     "metadata": {},
     "output_type": "execute_result"
    }
   ],
   "source": [
    "[x.upper() for x in rijeci if len(x) > 2]"
   ]
  },
  {
   "cell_type": "markdown",
   "id": "7d5d584b",
   "metadata": {},
   "source": [
    "Sve stavimo u uglate zagrade kako bismo kreirali listu. Zatim navedemo što želimo raditi. U našem slučaju: slova iz varijable X pretvori u velika slova. Varijablu x dobit ćete tako što ćete FOR petljom proći kroz listu RIJECI i jedan po jedan element dodijeliti varijabli x, ali samo ako zadovoljava uvjet da je dužina te riječi veća od 2!"
   ]
  },
  {
   "cell_type": "markdown",
   "id": "f00e31dc",
   "metadata": {},
   "source": [
    "**Konstrukcija DICT kolekcije**\n",
    "\n",
    "dict_konstrukcija = {kljuc_naredba : vrijednost_naredba for vrijednost in kolekcija if uvjet}\n",
    "kljuc_naredba -> predstavlja jednu liniju kao što smo imali u x.upper(), dakle predstavlja kako ćemo dobiti ključ. Isto se odnosi i na vrijednost"
   ]
  },
  {
   "cell_type": "markdown",
   "id": "c743b8d4",
   "metadata": {},
   "source": [
    "**Konstrukcija SET kolekcije**\n",
    "\n",
    "set_construction = {naredba for vrijednost in kolekcija if uvjet}"
   ]
  },
  {
   "cell_type": "code",
   "execution_count": 99,
   "id": "48de1079",
   "metadata": {},
   "outputs": [
    {
     "data": {
      "text/plain": [
       "{1, 2, 3, 5, 6}"
      ]
     },
     "execution_count": 99,
     "metadata": {},
     "output_type": "execute_result"
    }
   ],
   "source": [
    "stringovi = ['a', 'b', 'ab', 'bc', 'abc', 'def', 'ghj', 'qwertz', 'asdfg']\n",
    "\n",
    "duzine_stringova = {len(x) for x in stringovi}\n",
    "duzine_stringova"
   ]
  },
  {
   "cell_type": "markdown",
   "id": "e79b4158",
   "metadata": {},
   "source": [
    "**ZADATAK**\n",
    "\n",
    "Kreirajte program koji će prikazati:\n",
    "- minimalnu dnevnu temp\n",
    "- maksimalnu dnevnu temp\n",
    "- prosječnu dnevnu temp\n",
    "- broj mjerenja temp"
   ]
  },
  {
   "cell_type": "markdown",
   "id": "b9b83c9f",
   "metadata": {},
   "source": [
    "### Python moduli"
   ]
  },
  {
   "cell_type": "markdown",
   "id": "8b8b50b4",
   "metadata": {},
   "source": [
    "### Python integrirani moduli\n",
    "\n",
    "Uz programski jezik Python, prilikom same instalacije isporučuju se moduli koji su potrebni za programiranje većine aplikacija. Ovi moduli se nazivaju **Python Standard Library** moduli. Neke od njih smo već koristili, a neke ćemo obraditi u ovom seminaru.\n",
    "\n",
    "- **collections** - modul s dodatnim kolekcijama podataka, osim lista, nteraca, rječnika i setova\n",
    "- **csv** - modul za procesiranje sadržaja CSV datoteka\n",
    "- **datetime, time** - rad s vremenom i datumima kao tipovima podataka\n",
    "- **decimal** - računanje s fiksnim i promjenjivim decimalnim mjestima, uključujući i monetarne izračune\n",
    "- **json** - modul za procesiranje json datoteka (Javascript Object Notation)\n",
    "- **math** - najčešće matematičke konstante i operacije vezane uz njih\n",
    "- **os** - modul za interakciju s operacijskim sustavom računala\n",
    "- **timeit** - modul za analizu performansi algoritma (cilj je da obrada podataka bude brza)\n",
    "- **random** - generator nasumičnih brojeva\n",
    "- **re** - modul za rad s \"Regular expressions\", odnosno za provjeru unesenih podataka na osnovu prethodno definiranih predložaka\n",
    "- **sqlite3** - modul za rad s SQLite bazom podataka\n",
    "- **statistics** - statističke matematičke funkcije kao prosjek, medijan, varijanca, mod\n",
    "- **string** - obrada tekstualnih tipova podataka\n",
    "- **sys** - prilikom pokretanja Python skripti u konzoli možemo proslijediti neke podatke koji će se iskoristiti kod pokretanja skripte"
   ]
  },
  {
   "cell_type": "code",
   "execution_count": null,
   "id": "31cc4943",
   "metadata": {},
   "outputs": [],
   "source": []
  }
 ],
 "metadata": {
  "kernelspec": {
   "display_name": "Python 3 (ipykernel)",
   "language": "python",
   "name": "python3"
  },
  "language_info": {
   "codemirror_mode": {
    "name": "ipython",
    "version": 3
   },
   "file_extension": ".py",
   "mimetype": "text/x-python",
   "name": "python",
   "nbconvert_exporter": "python",
   "pygments_lexer": "ipython3",
   "version": "3.9.16"
  }
 },
 "nbformat": 4,
 "nbformat_minor": 5
}
