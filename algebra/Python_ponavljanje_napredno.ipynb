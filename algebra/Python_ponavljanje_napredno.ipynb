{
 "cells": [
  {
   "cell_type": "markdown",
   "id": "373b5c44",
   "metadata": {},
   "source": [
    "# Python ponavljanje - Napredni dio"
   ]
  },
  {
   "cell_type": "markdown",
   "id": "5453e9a2",
   "metadata": {},
   "source": [
    "## Funkcije"
   ]
  },
  {
   "cell_type": "markdown",
   "id": "9dd35142",
   "metadata": {},
   "source": [
    "Funkcije predstavljaju način organizacije i efektivan su način sa sprečavanje ponavljanja koda. \n",
    "Funkcije unutar klasa zovemo metodama.\n",
    "\n",
    "Za kreiranje funkcije koristimo ključnu riječ **def**, a nakon toga ime funkcije koje uvijek pišemo malim slovom. Nakon naziva funkcije, dolaze zagrade u kojima može, ali i ne mora, biti jedan ili više argumenata. Ta linija koda završava dvotočkom kao signalom za početak novog bloka."
   ]
  },
  {
   "cell_type": "code",
   "execution_count": 1,
   "id": "db4a17c5",
   "metadata": {},
   "outputs": [
    {
     "name": "stdout",
     "output_type": "stream",
     "text": [
      "6 4 \n",
      "4 1 \n",
      "6 3 \n",
      "1 6 \n"
     ]
    }
   ],
   "source": [
    "import random\n",
    "def baci_kockicu(broj_bacanja = 4, broj_kockica = 2):\n",
    "    \n",
    "    for bacanje in range(broj_bacanja):\n",
    "        for kockica in range(broj_kockica):\n",
    "            rezultat = random.randint(1, 6)\n",
    "            print(rezultat, end=' ')\n",
    "        print()\n",
    "            \n",
    "baci_kockicu() "
   ]
  },
  {
   "cell_type": "markdown",
   "id": "5d17d630",
   "metadata": {},
   "source": [
    "**Pitanje** -> Koliko puta će se pojaviti brojevi 1, 2, 3, 4, 5 i 6 ako kockicu bacimo 6 milijuna puta?"
   ]
  },
  {
   "cell_type": "markdown",
   "id": "6288394b",
   "metadata": {},
   "source": [
    "**Zadatak: Igra na sreću s dvije šesterostrane kockice**\n",
    "\n",
    "Pravila: Igrač baca dvije kockice. Ako je zbroj dobivenih brojeva u prvom bacanju 7 ili 11, igrač je pobijedio. Ako je zbroj dobivenih brojeva: 4, 5, 6, 8, 9 ili 10 onda taj broj postaje CILJ, odnosno igrač mora bacati kocke sve dok zbroj brojeva ne bude CILJ. Ako je u prvom ili bilo kojem drugom bacanju igrač dobio zbroj brojeva 2, 3 ili 12, igrač je izgubio !"
   ]
  },
  {
   "cell_type": "code",
   "execution_count": 27,
   "id": "d10ee80c",
   "metadata": {},
   "outputs": [
    {
     "name": "stdout",
     "output_type": "stream",
     "text": [
      "Igrac je bacio: 3 + 3 = 6\n",
      "Cilj je: 6\n",
      "Igrac je bacio: 2 + 6 = 8\n",
      "8\n",
      "Igrac je bacio: 5 + 1 = 6\n",
      "6\n",
      "Pobijedili ste, čestitamo!\n"
     ]
    }
   ],
   "source": [
    "import random \n",
    "\n",
    "def baci_kockicu():\n",
    "    \"\"\"Baci dvije kockice i vrati rezultat kao tuple\"\"\"\n",
    "    kockica1 = random.randint(1, 6)\n",
    "    kockica2 = random.randint(1, 6)\n",
    "    return (kockica1, kockica2)\n",
    "    \n",
    "def prikazi_rezultat_bacanja(rezultat_bacanja):\n",
    "    \"\"\"Funkcija prima tuple dimenzije 2 i prikazuje rezultat bacanja dviju kockica.\"\"\"\n",
    "    \n",
    "    rezultat = rezultat_bacanja[0] + rezultat_bacanja[1]\n",
    "    print(f'Igrac je bacio: {rezultat_bacanja[0]} + {rezultat_bacanja[1]} = {rezultat}')\n",
    "    return rezultat\n",
    "    \n",
    "# Prvo bacanje\n",
    "rezultat_bacanja = baci_kockicu()\n",
    "zbroj_prvog_bacanja = prikazi_rezultat_bacanja(rezultat_bacanja)\n",
    "\n",
    "# Ishoda nakon prvog bacanja:\n",
    "if zbroj_prvog_bacanja in [7, 11]:\n",
    "    status_igre = 'POBJEDA'\n",
    "elif zbroj_prvog_bacanja in [2, 3, 12]:\n",
    "    status_igre = 'PORAZ'\n",
    "else:\n",
    "    status_igre = 'NASTAVI'\n",
    "    print(f'Cilj je: {zbroj_prvog_bacanja}')\n",
    "\n",
    "while status_igre == 'NASTAVI':\n",
    "    rezultat_bacanja = baci_kockicu()\n",
    "    zbroj = prikazi_rezultat_bacanja(rezultat_bacanja)\n",
    "    print(zbroj)\n",
    "    \n",
    "    if zbroj == zbroj_prvog_bacanja:\n",
    "        status_igre = 'POBJEDA'\n",
    "    elif zbroj in [2, 3, 12]:\n",
    "        status_igre = 'GUBITAK'\n",
    "        \n",
    "# Ispisi poruke nakon zavrsetka igre\n",
    "\n",
    "if status_igre == 'POBJEDA':\n",
    "    print('Pobijedili ste, čestitamo!')\n",
    "else:\n",
    "    print('Više sreće drugi put!')"
   ]
  },
  {
   "cell_type": "markdown",
   "id": "99cd56aa",
   "metadata": {},
   "source": [
    "## Lokalne i globalne varijable\n",
    "\n",
    "Varijable, koje su deklarirane unutar funkcije, nazivaju se lokalne, a varijable deklarirane iznad funkcije koje koristimo i unutar funkcije su globalne varijable."
   ]
  },
  {
   "cell_type": "code",
   "execution_count": 30,
   "id": "d8c96c39",
   "metadata": {},
   "outputs": [
    {
     "name": "stdout",
     "output_type": "stream",
     "text": [
      "[0, 1, 2, 3, 4]\n"
     ]
    }
   ],
   "source": [
    "def funkcija():\n",
    "    global lista\n",
    "    lista = []\n",
    "    for i in range(5):\n",
    "        lista.append(i)\n",
    "        \n",
    "funkcija()\n",
    "print(lista)"
   ]
  },
  {
   "cell_type": "code",
   "execution_count": 29,
   "id": "7429c202",
   "metadata": {},
   "outputs": [
    {
     "name": "stdout",
     "output_type": "stream",
     "text": [
      "[0, 1, 2, 3, 4]\n",
      "[0, 1, 2, 3, 4, 0, 1, 2, 3, 4]\n",
      "[0, 1, 2, 3, 4, 0, 1, 2, 3, 4, 0, 1, 2, 3, 4]\n"
     ]
    }
   ],
   "source": [
    "lista = []\n",
    "\n",
    "def funkcija():\n",
    "    for i in range(5):\n",
    "        lista.append(i)\n",
    "        \n",
    "funkcija()\n",
    "print(lista)\n",
    "funkcija()\n",
    "print(lista)\n",
    "funkcija()\n",
    "print(lista)\n"
   ]
  },
  {
   "cell_type": "markdown",
   "id": "13dd2fbe",
   "metadata": {},
   "source": [
    "### re modul - Regular Expressions"
   ]
  },
  {
   "cell_type": "code",
   "execution_count": 31,
   "id": "1eda7b3d",
   "metadata": {},
   "outputs": [
    {
     "data": {
      "text/plain": [
       "['Zagreb',\n",
       " 'Osijek',\n",
       " 'Rijeka',\n",
       " 'Rijeka',\n",
       " 'Pula',\n",
       " 'Slavonski Brod',\n",
       " 'Nova Gradiska']"
      ]
     },
     "execution_count": 31,
     "metadata": {},
     "output_type": "execute_result"
    }
   ],
   "source": [
    "import re\n",
    "\n",
    "gradovi = ['   Zagreb', 'Osijek!', 'Rijeka', 'rijeka', 'PUla', 'slavonski brod##', 'Nova gradiska?']\n",
    "\n",
    "def popravi_unos(lista):\n",
    "    rezultat = []\n",
    "    for element in lista:\n",
    "        element = element.strip()\n",
    "        element = re.sub('[!#?]','', element)\n",
    "        element = element.title()\n",
    "        rezultat.append(element)\n",
    "    return rezultat\n",
    "\n",
    "popravi_unos(gradovi)\n",
    "\n",
    "# +385996787865 / 099 678 865 / 099-678-865 / (+385) 99 678 865 -> phone validator - pomoću re prepozna nepoželjne znakove i ukloni ih"
   ]
  },
  {
   "cell_type": "markdown",
   "id": "a568bde6",
   "metadata": {},
   "source": [
    "### LAMBDA ili anonimne funkcije = funkcije koje nemaju naziv\n",
    "\n",
    "Lambda funkcije ne definiraju se pomoću ključne riječi def i ne dodjeljuje im se naziv. Zbog toga se te funkcije NE MOGU pozvati iz različitih dijelova koda kao \"obične\" funkcije koje smo do sada koristili, ali lambda funkcije mogu pohraniti vrijednost u neku varijablu i na takav se način koristiti više puta !\n",
    "\n",
    "Skraćeno, lambda funkcije su funkcije koje NEMAJU naziv, MOGU imati više argumenata te IMAJU jednu naredbu u jednoj liniji koda!"
   ]
  },
  {
   "cell_type": "code",
   "execution_count": 35,
   "id": "c2b8ce55",
   "metadata": {},
   "outputs": [
    {
     "name": "stdout",
     "output_type": "stream",
     "text": [
      "FUNKCIJA\t 33\n",
      "LAMBDA\t\t 33\n",
      "<class 'function'>\n"
     ]
    }
   ],
   "source": [
    "# Obična funkcija\n",
    "def naziv_funkcije(argument1, argument2):\n",
    "    return (argument1 * argument2) + 3\n",
    "\n",
    "print('FUNKCIJA\\t', naziv_funkcije(5, 6))\n",
    "\n",
    "# Lambda funkcija\n",
    "varijabla = lambda argument1, argument2: (argument1 * argument2) + 3\n",
    "print('LAMBDA\\t\\t', varijabla(5, 6))\n",
    "\n",
    "print(type(varijabla))"
   ]
  },
  {
   "cell_type": "markdown",
   "id": "d4f40f61",
   "metadata": {},
   "source": [
    "Dakle, lambde funkcioniraju kao i obične funkcije samo što smo:\n",
    "- zamijenili \"def naziv funkcije\" ključnom riječju lambda\n",
    "- argument ili više njih pišemo bez zagrade, ali nakon argumenata i dalje navodimo dvotočku (:)\n",
    "- nakon dvotočke dolazi jedna linija koda, bez ključne riječi \"return\" koja se podrazumijeva"
   ]
  },
  {
   "cell_type": "code",
   "execution_count": 39,
   "id": "b9543f89",
   "metadata": {},
   "outputs": [
    {
     "data": {
      "text/html": [
       "<div>\n",
       "<style scoped>\n",
       "    .dataframe tbody tr th:only-of-type {\n",
       "        vertical-align: middle;\n",
       "    }\n",
       "\n",
       "    .dataframe tbody tr th {\n",
       "        vertical-align: top;\n",
       "    }\n",
       "\n",
       "    .dataframe thead th {\n",
       "        text-align: right;\n",
       "    }\n",
       "</style>\n",
       "<table border=\"1\" class=\"dataframe\">\n",
       "  <thead>\n",
       "    <tr style=\"text-align: right;\">\n",
       "      <th></th>\n",
       "      <th>Ime</th>\n",
       "      <th>Broj_bodova</th>\n",
       "    </tr>\n",
       "  </thead>\n",
       "  <tbody>\n",
       "    <tr>\n",
       "      <th>0</th>\n",
       "      <td>Filip</td>\n",
       "      <td>420</td>\n",
       "    </tr>\n",
       "    <tr>\n",
       "      <th>1</th>\n",
       "      <td>Josip</td>\n",
       "      <td>350</td>\n",
       "    </tr>\n",
       "    <tr>\n",
       "      <th>2</th>\n",
       "      <td>Ivan</td>\n",
       "      <td>480</td>\n",
       "    </tr>\n",
       "    <tr>\n",
       "      <th>3</th>\n",
       "      <td>Hrvoje</td>\n",
       "      <td>250</td>\n",
       "    </tr>\n",
       "  </tbody>\n",
       "</table>\n",
       "</div>"
      ],
      "text/plain": [
       "      Ime  Broj_bodova\n",
       "0   Filip          420\n",
       "1   Josip          350\n",
       "2    Ivan          480\n",
       "3  Hrvoje          250"
      ]
     },
     "execution_count": 39,
     "metadata": {},
     "output_type": "execute_result"
    }
   ],
   "source": [
    "import pandas as pd\n",
    "\n",
    "values = [['Filip', 420], ['Josip', 350], ['Ivan', 480], ['Hrvoje', 250]]\n",
    "\n",
    "df = pd.DataFrame(values, columns=['Ime', 'Broj_bodova'])\n",
    "df.head()"
   ]
  },
  {
   "cell_type": "code",
   "execution_count": 41,
   "id": "693c4447",
   "metadata": {},
   "outputs": [],
   "source": [
    "df = df.assign(Postotak = lambda x: (x['Broj_bodova']/500 * 100))"
   ]
  },
  {
   "cell_type": "code",
   "execution_count": 42,
   "id": "43b34d8f",
   "metadata": {},
   "outputs": [
    {
     "data": {
      "text/html": [
       "<div>\n",
       "<style scoped>\n",
       "    .dataframe tbody tr th:only-of-type {\n",
       "        vertical-align: middle;\n",
       "    }\n",
       "\n",
       "    .dataframe tbody tr th {\n",
       "        vertical-align: top;\n",
       "    }\n",
       "\n",
       "    .dataframe thead th {\n",
       "        text-align: right;\n",
       "    }\n",
       "</style>\n",
       "<table border=\"1\" class=\"dataframe\">\n",
       "  <thead>\n",
       "    <tr style=\"text-align: right;\">\n",
       "      <th></th>\n",
       "      <th>Ime</th>\n",
       "      <th>Broj_bodova</th>\n",
       "      <th>Postotak</th>\n",
       "    </tr>\n",
       "  </thead>\n",
       "  <tbody>\n",
       "    <tr>\n",
       "      <th>0</th>\n",
       "      <td>Filip</td>\n",
       "      <td>420</td>\n",
       "      <td>84.0</td>\n",
       "    </tr>\n",
       "    <tr>\n",
       "      <th>1</th>\n",
       "      <td>Josip</td>\n",
       "      <td>350</td>\n",
       "      <td>70.0</td>\n",
       "    </tr>\n",
       "    <tr>\n",
       "      <th>2</th>\n",
       "      <td>Ivan</td>\n",
       "      <td>480</td>\n",
       "      <td>96.0</td>\n",
       "    </tr>\n",
       "    <tr>\n",
       "      <th>3</th>\n",
       "      <td>Hrvoje</td>\n",
       "      <td>250</td>\n",
       "      <td>50.0</td>\n",
       "    </tr>\n",
       "  </tbody>\n",
       "</table>\n",
       "</div>"
      ],
      "text/plain": [
       "      Ime  Broj_bodova  Postotak\n",
       "0   Filip          420      84.0\n",
       "1   Josip          350      70.0\n",
       "2    Ivan          480      96.0\n",
       "3  Hrvoje          250      50.0"
      ]
     },
     "execution_count": 42,
     "metadata": {},
     "output_type": "execute_result"
    }
   ],
   "source": [
    "df.head()"
   ]
  },
  {
   "cell_type": "code",
   "execution_count": 44,
   "id": "20f12f60",
   "metadata": {},
   "outputs": [],
   "source": [
    "dnevne_temperature = [15.1, 15.2, 15.6, 16.1, 16.8, 17.3, 17.3, 17.9, 18.3, 19.1, 20.3, 20.5, 20.8, \n",
    "                      21.2, 21.8, 22.3, 23.1, 24.5, 25.6, 25.9, 26.3, 26.8, 27.1, 27.3, 27.5, 27.8, \n",
    "                      27.2, 26.8, 26.3, 26.1, 25.5, 24.6, 23.9, 23.3, 22.8, 22.1, 21.3, 20.5, 19.8,\n",
    "                      19.5, 19.1, 18.6, 18.1, 17.6, 16.8, 16.3, 15.9, 15.4, 15.2, 14.9, 14.6, 14.1]\n",
    "\n",
    "# PRVI NAČIN - for petlja\n",
    "dnevne_temp_vise_od_25_01 = []\n",
    "for element in dnevne_temperature:\n",
    "    if element > 25.0:\n",
    "        dnevne_temp_vise_od_25_01.append(element)\n",
    "        \n",
    "# DRUGI NAČIN - list comprehensions\n",
    "dnevne_temp_vise_od_25_02 = [x for x in dnevne_temperature if x > 25.0]\n",
    "\n",
    "# TREĆI NAČIN - lambda funkcija\n",
    "dnevne_temp_vise_od_25_03 = list(filter(lambda temperatura: temperatura > 25.0, dnevne_temperature))\n",
    "# HINT: koristite filter funkciju -> filter(filter_funkcija, dnevne_temperature)\n",
    "# def filter_funkcija(temperatura):\n",
    "#     if temperatura > 25.06:\n",
    "#           return True\n",
    "#     return False"
   ]
  },
  {
   "cell_type": "code",
   "execution_count": 45,
   "id": "f1af006f",
   "metadata": {},
   "outputs": [
    {
     "name": "stdout",
     "output_type": "stream",
     "text": [
      "[25.6, 25.9, 26.3, 26.8, 27.1, 27.3, 27.5, 27.8, 27.2, 26.8, 26.3, 26.1, 25.5]\n",
      "[25.6, 25.9, 26.3, 26.8, 27.1, 27.3, 27.5, 27.8, 27.2, 26.8, 26.3, 26.1, 25.5]\n",
      "[25.6, 25.9, 26.3, 26.8, 27.1, 27.3, 27.5, 27.8, 27.2, 26.8, 26.3, 26.1, 25.5]\n"
     ]
    }
   ],
   "source": [
    "print(dnevne_temp_vise_od_25_01)\n",
    "print(dnevne_temp_vise_od_25_02)\n",
    "print(dnevne_temp_vise_od_25_03)"
   ]
  },
  {
   "cell_type": "code",
   "execution_count": 46,
   "id": "2c0f9042",
   "metadata": {},
   "outputs": [],
   "source": [
    "# Još jedan primjer\n",
    "\n",
    "puno_ime = lambda ime, prezime: f'Puno ime: {ime.title()} {prezime.title()}'\n",
    "\n",
    "# Puno ime: Petar Karlo Račić\n",
    "\n",
    "# Primamo dva argumenta ime, prezime\n",
    "# Vraćamo f string: Puno ime: Petar Karlo Račić"
   ]
  },
  {
   "cell_type": "code",
   "execution_count": 47,
   "id": "44faafb3",
   "metadata": {},
   "outputs": [
    {
     "data": {
      "text/plain": [
       "'Puno ime: Petar Karlo Račić'"
      ]
     },
     "execution_count": 47,
     "metadata": {},
     "output_type": "execute_result"
    }
   ],
   "source": [
    "puno_ime('petar karlo', 'raČIĆ')"
   ]
  },
  {
   "cell_type": "code",
   "execution_count": 53,
   "id": "7785b76c",
   "metadata": {},
   "outputs": [],
   "source": [
    "# Konverzija u Fahrenheit-e\n",
    "\n",
    "# map(fun, iter) \n",
    "dnevne_temperature_F = list(map(lambda x: round((((9/5)* x) + 32), 2), dnevne_temperature))"
   ]
  },
  {
   "cell_type": "code",
   "execution_count": 54,
   "id": "0884434a",
   "metadata": {},
   "outputs": [
    {
     "data": {
      "text/plain": [
       "[59.18,\n",
       " 59.36,\n",
       " 60.08,\n",
       " 60.98,\n",
       " 62.24,\n",
       " 63.14,\n",
       " 63.14,\n",
       " 64.22,\n",
       " 64.94,\n",
       " 66.38,\n",
       " 68.54,\n",
       " 68.9,\n",
       " 69.44,\n",
       " 70.16,\n",
       " 71.24,\n",
       " 72.14,\n",
       " 73.58,\n",
       " 76.1,\n",
       " 78.08,\n",
       " 78.62,\n",
       " 79.34,\n",
       " 80.24,\n",
       " 80.78,\n",
       " 81.14,\n",
       " 81.5,\n",
       " 82.04,\n",
       " 80.96,\n",
       " 80.24,\n",
       " 79.34,\n",
       " 78.98,\n",
       " 77.9,\n",
       " 76.28,\n",
       " 75.02,\n",
       " 73.94,\n",
       " 73.04,\n",
       " 71.78,\n",
       " 70.34,\n",
       " 68.9,\n",
       " 67.64,\n",
       " 67.1,\n",
       " 66.38,\n",
       " 65.48,\n",
       " 64.58,\n",
       " 63.68,\n",
       " 62.24,\n",
       " 61.34,\n",
       " 60.62,\n",
       " 59.72,\n",
       " 59.36,\n",
       " 58.82,\n",
       " 58.28,\n",
       " 57.38]"
      ]
     },
     "execution_count": 54,
     "metadata": {},
     "output_type": "execute_result"
    }
   ],
   "source": [
    "dnevne_temperature_F"
   ]
  },
  {
   "cell_type": "markdown",
   "id": "db0e7589",
   "metadata": {},
   "source": [
    "### Upravljanje greškama"
   ]
  },
  {
   "cell_type": "markdown",
   "id": "f67673e2",
   "metadata": {},
   "source": [
    "Programe pišu ljudi, a kako ljudi nisu savršeni, događaju se gršeke. Ponekad te greške ne utječu na izvršavanje programa, ali daju krive ili neočekivane rezultate - BUG. \n",
    "\n",
    "Drugi tip greške nastaje tijekom pisanja koda i njih je ponekad lako uočiti, a ponekad se i one otkriju tek nakon što program isporučimo korisniku. Tijekom ovakvih grešaka cijeli program se \"raspadne\", a krajnji korisnik dobije neke nesuvisle greške i opise tih grešaka. \n",
    "\n",
    "Srećom, ovakve greške se mogu uloviti !! \n",
    "\n",
    "Python za ovakve greške koristi sintaksu:\n",
    "try:\n",
    "    kod koji pokušavamo pokrenuti\n",
    "except:\n",
    "    kod koji ispisuje neki smisleniju poruku krajnjem korisniku"
   ]
  },
  {
   "cell_type": "code",
   "execution_count": 63,
   "id": "e6971e63",
   "metadata": {},
   "outputs": [
    {
     "ename": "ZeroDivisionError",
     "evalue": "division by zero",
     "output_type": "error",
     "traceback": [
      "\u001b[1;31m---------------------------------------------------------------------------\u001b[0m",
      "\u001b[1;31mZeroDivisionError\u001b[0m                         Traceback (most recent call last)",
      "Cell \u001b[1;32mIn[63], line 1\u001b[0m\n\u001b[1;32m----> 1\u001b[0m \u001b[38;5;28mprint\u001b[39m(\u001b[38;5;241;43m5\u001b[39;49m\u001b[43m \u001b[49m\u001b[38;5;241;43m/\u001b[39;49m\u001b[43m \u001b[49m\u001b[38;5;241;43m0\u001b[39;49m)\n",
      "\u001b[1;31mZeroDivisionError\u001b[0m: division by zero"
     ]
    }
   ],
   "source": [
    "print(5 / 0)"
   ]
  },
  {
   "cell_type": "code",
   "execution_count": 62,
   "id": "034ca9f5",
   "metadata": {},
   "outputs": [
    {
     "name": "stdout",
     "output_type": "stream",
     "text": [
      " 5 / 0 = Dijeljenje s nulom nije moguće - division by zero\n"
     ]
    }
   ],
   "source": [
    "def dijeljenje(x, y):\n",
    "    try:\n",
    "        return x / y\n",
    "    except Exception as e:\n",
    "        return f'Dijeljenje s nulom nije moguće - {e}'\n",
    "\n",
    "print(' 5 / 0 =', dijeljenje(5, 0))"
   ]
  },
  {
   "cell_type": "code",
   "execution_count": null,
   "id": "166a7d5c",
   "metadata": {},
   "outputs": [],
   "source": []
  }
 ],
 "metadata": {
  "kernelspec": {
   "display_name": "Python 3 (ipykernel)",
   "language": "python",
   "name": "python3"
  },
  "language_info": {
   "codemirror_mode": {
    "name": "ipython",
    "version": 3
   },
   "file_extension": ".py",
   "mimetype": "text/x-python",
   "name": "python",
   "nbconvert_exporter": "python",
   "pygments_lexer": "ipython3",
   "version": "3.9.16"
  }
 },
 "nbformat": 4,
 "nbformat_minor": 5
}
